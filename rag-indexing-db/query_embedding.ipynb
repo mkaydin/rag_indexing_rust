{
 "cells": [
  {
   "cell_type": "code",
   "execution_count": null,
   "metadata": {},
   "outputs": [],
   "source": [
    "%pip install lancedb\n",
    "%pip install pandas\n",
    "%pip install pyarrow"
   ]
  },
  {
   "cell_type": "code",
   "execution_count": 1,
   "metadata": {},
   "outputs": [
    {
     "name": "stderr",
     "output_type": "stream",
     "text": [
      "/Volumes/MAC-DEPO/repos/rust-rag-indexing/rag-lancedb/lib/python3.12/site-packages/tqdm/auto.py:21: TqdmWarning: IProgress not found. Please update jupyter and ipywidgets. See https://ipywidgets.readthedocs.io/en/stable/user_install.html\n",
      "  from .autonotebook import tqdm as notebook_tqdm\n"
     ]
    }
   ],
   "source": [
    "import lancedb\n",
    "import pandas as pd\n",
    "import pyarrow as pa\n",
    "\n",
    "uri = \"data/vecdb1\"\n",
    "db = lancedb.connect(uri)"
   ]
  },
  {
   "cell_type": "code",
   "execution_count": 2,
   "metadata": {},
   "outputs": [
    {
     "name": "stdout",
     "output_type": "stream",
     "text": [
      "['vectors_table_1']\n"
     ]
    }
   ],
   "source": [
    "print(db.table_names())\n",
    "tbl = db.open_table(\"vectors_table_1\")"
   ]
  },
  {
   "cell_type": "code",
   "execution_count": 6,
   "metadata": {},
   "outputs": [
    {
     "data": {
      "text/plain": [
       "3"
      ]
     },
     "execution_count": 6,
     "metadata": {},
     "output_type": "execute_result"
    }
   ],
   "source": [
    "tbl.count_rows()"
   ]
  },
  {
   "cell_type": "code",
   "execution_count": 15,
   "metadata": {},
   "outputs": [
    {
     "name": "stderr",
     "output_type": "stream",
     "text": [
      "The cache for model files in Transformers v4.22.0 has been updated. Migrating your old cache. This is a one-time only operation. You can interrupt this and resume the migration later on by calling `transformers.utils.move_cache()`.\n",
      "0it [00:00, ?it/s]\n",
      "/Volumes/MAC-DEPO/repos/rust-rag-indexing/rag-lancedb/lib/python3.12/site-packages/transformers/tokenization_utils_base.py:1601: FutureWarning: `clean_up_tokenization_spaces` was not set. It will be set to `True` by default. This behavior will be depracted in transformers v4.45, and will be then set to `False` by default. For more details check this issue: https://github.com/huggingface/transformers/issues/31884\n",
      "  warnings.warn(\n"
     ]
    },
    {
     "name": "stdout",
     "output_type": "stream",
     "text": [
      "(2, 384)\n"
     ]
    }
   ],
   "source": [
    "from sentence_transformers import SentenceTransformer\n",
    "model = SentenceTransformer(\"all-MiniLM-L6-v2\")\n",
    "\n",
    "# The sentences to encode\n",
    "sentences = [\n",
    "    \"I really like animals and especially dogs.\",\n",
    "    \"It's so sunny outside!\",\n",
    "]\n",
    "\n",
    "# 2. Calculate embeddings by calling model.encode()\n",
    "embeddings = model.encode(sentences, normalize_embeddings=True)\n",
    "print(embeddings.shape)"
   ]
  },
  {
   "cell_type": "code",
   "execution_count": 16,
   "metadata": {},
   "outputs": [
    {
     "data": {
      "text/plain": [
       "numpy.ndarray"
      ]
     },
     "execution_count": 16,
     "metadata": {},
     "output_type": "execute_result"
    }
   ],
   "source": [
    "type(embeddings[0])"
   ]
  },
  {
   "cell_type": "code",
   "execution_count": 17,
   "metadata": {},
   "outputs": [
    {
     "name": "stderr",
     "output_type": "stream",
     "text": [
      "thread 'lance_background_thread' panicked at /Users/runner/.cargo/registry/src/index.crates.io-6f17d22bba15001f/arrow-array-52.2.0/src/array/byte_array.rs:500:9:\n",
      "assertion `left == right` failed: StringArray data should contain 2 buffers only (offsets and values)\n",
      "  left: 1\n",
      " right: 2\n",
      "thread 'lance_background_thread' panicked at /Users/runner/work/lance/lance/rust/lance-encoding/src/decoder.rs:1213:65:\n",
      "called `Result::unwrap()` on an `Err` value: JoinError::Panic(Id(111), ...)\n"
     ]
    },
    {
     "data": {
      "text/html": [
       "<div>\n",
       "<style scoped>\n",
       "    .dataframe tbody tr th:only-of-type {\n",
       "        vertical-align: middle;\n",
       "    }\n",
       "\n",
       "    .dataframe tbody tr th {\n",
       "        vertical-align: top;\n",
       "    }\n",
       "\n",
       "    .dataframe thead th {\n",
       "        text-align: right;\n",
       "    }\n",
       "</style>\n",
       "<table border=\"1\" class=\"dataframe\">\n",
       "  <thead>\n",
       "    <tr style=\"text-align: right;\">\n",
       "      <th></th>\n",
       "      <th>filename</th>\n",
       "      <th>_distance</th>\n",
       "    </tr>\n",
       "  </thead>\n",
       "  <tbody>\n",
       "  </tbody>\n",
       "</table>\n",
       "</div>"
      ],
      "text/plain": [
       "Empty DataFrame\n",
       "Columns: [filename, _distance]\n",
       "Index: []"
      ]
     },
     "execution_count": 17,
     "metadata": {},
     "output_type": "execute_result"
    }
   ],
   "source": [
    "tbl.search(embeddings[0]) \\\n",
    "    .select([\"filename\"]) \\\n",
    "    .limit(3).to_pandas()"
   ]
  },
  {
   "cell_type": "code",
   "execution_count": 18,
   "metadata": {},
   "outputs": [
    {
     "name": "stdout",
     "output_type": "stream",
     "text": [
      "--- PETS ---\n",
      "Dogs often bark to express their feelings.\n",
      "Guinea pigs make a series of interesting vocalizations.\n",
      "Cats love scratching posts that mimic trees.\n",
      "Snakes can be intriguing, though somewhat unconventional pets.\n",
      "Parrots can mimic human speech quite accurately.\n",
      "Cats love scratching posts that mimic trees.\n",
      "Ferrets are playful animals that enjoy interacting with humans.\n",
      "Ferrets are playful animals that enjoy interacting with humans.\n",
      "Dogs often bark to express their feelings.\n",
      "Guinea pigs make a series of interesting vocalizations.\n",
      "Turtles can live for many decades with proper care.\n",
      "Rabbits thrive on a diet rich in hay.\n",
      "Ferrets are playful animals that enjoy interacting with humans.\n",
      "Parrots can mimic human speech quite accurately.\n",
      "Snakes can be intriguing, though somewhat unconventional pets.\n",
      "Horses require a large amount of outdoor space.\n",
      "Rabbits thrive on a diet rich in hay.\n",
      "Dogs often bark to express their feelings.\n",
      "Cats love scratching posts that mimic trees.\n",
      "Rabbits thrive on a diet rich in hay.\n",
      "Rabbits thrive on a diet rich in hay.\n",
      "Rabbits thrive on a diet rich in hay.\n",
      "Cats love scratching posts that mimic trees.\n",
      "Dogs often bark to express their feelings.\n",
      "Rabbits thrive on a diet rich in hay.\n",
      "Fish are popular pets for small apartments.\n",
      "Fish are popular pets for small apartments.\n",
      "Cats love scratching posts that mimic trees.\n",
      "Guinea pigs make a series of interesting vocalizations.\n",
      "Ferrets are playful animals that enjoy interacting with humans.\n",
      "Parrots can mimic human speech quite accurately.\n",
      "Snakes can be intriguing, though somewhat unconventional pets.\n",
      "Cats love scratching posts that mimic trees.\n",
      "Fish are popular pets for small apartments.\n",
      "Turtles can live for many decades with proper care.\n",
      "Rabbits thrive on a diet rich in hay.\n",
      "Guinea pigs make a series of interesting vocalizations.\n",
      "Snakes can be intriguing, though somewhat unconventional pets.\n",
      "Turtles can live for many decades with proper care.\n",
      "Parrots can mimic human speech quite accurately.\n",
      "Snakes can be intriguing, though somewhat unconventional pets.\n",
      "Rabbits thrive on a diet rich in hay.\n",
      "Ferrets are playful animals that enjoy interacting with humans.\n",
      "Rabbits thrive on a diet rich in hay.\n",
      "Horses require a large amount of outdoor space.\n",
      "Horses require a large amount of outdoor space.\n",
      "Horses require a large amount of outdoor space.\n",
      "Dogs often bark to express their feelings.\n",
      "Dogs often bark to express their feelings.\n",
      "Guinea pigs make a series of interesting vocalizations.\n",
      "Parrots can mimic human speech quite accurately.\n",
      "Dogs often bark to express their feelings.\n",
      "Turtles can live for many decades with proper care.\n",
      "Ferrets are playful animals that enjoy interacting with humans.\n",
      "Ferrets are playful animals that enjoy interacting with humans.\n",
      "Parrots can mimic human speech quite accurately.\n",
      "Rabbits thrive on a diet rich in hay.\n",
      "Ferrets are playful animals that enjoy interacting with humans.\n",
      "Turtles can live for many decades with proper care.\n",
      "Cats love scratching posts that mimic trees.\n",
      "Horses require a large amount of outdoor space.\n",
      "Snakes can be intriguing, though somewhat unconventional pets.\n",
      "Cats love scratching posts that mimic trees.\n",
      "Fish are popular pets for small apartments.\n",
      "Dogs often bark to express their feelings.\n",
      "Horses require a large amount of outdoor space.\n",
      "Parrots can mimic human speech quite accurately.\n",
      "Guinea pigs make a series of interesting vocalizations.\n",
      "Dogs often bark to express their feelings.\n",
      "Dogs often bark to express their feelings.\n",
      "Parrots can mimic human speech quite accurately.\n",
      "Guinea pigs make a series of interesting vocalizations.\n",
      "Cats love scratching posts that mimic trees.\n",
      "Ferrets are playful animals that enjoy interacting with humans.\n",
      "Dogs often bark to express their feelings.\n",
      "Fish are popular pets for small apartments.\n",
      "Dogs often bark to express their feelings.\n",
      "Fish are popular pets for small apartments.\n",
      "Parrots can mimic human speech quite accurately.\n",
      "Parrots can mimic human speech quite accurately.\n",
      "Dogs often bark to express their feelings.\n",
      "Guinea pigs make a series of interesting vocalizations.\n",
      "Dogs often bark to express their feelings.\n",
      "Parrots can mimic human speech quite accurately.\n",
      "Cats love scratching posts that mimic trees.\n",
      "Snakes can be intriguing, though somewhat unconventional pets.\n",
      "Dogs often bark to express their feelings.\n",
      "Turtles can live for many decades with proper care.\n",
      "Parrots can mimic human speech quite accurately.\n",
      "Guinea pigs make a series of interesting vocalizations.\n",
      "Fish are popular pets for small apartments.\n",
      "Fish are popular pets for small apartments.\n",
      "Parrots can mimic human speech quite accurately.\n",
      "Horses require a large amount of outdoor space.\n",
      "Fish are popular pets for small apartments.\n",
      "Parrots can mimic human speech quite accurately.\n",
      "Parrots can mimic human speech quite accurately.\n",
      "Fish are popular pets for small apartments.\n",
      "Guinea pigs make a series of interesting vocalizations.\n",
      "Snakes can be intriguing, though somewhat unconventional pets.\n",
      "Fish are popular pets for small apartments.\n",
      "Rabbits thrive on a diet rich in hay.\n",
      "Guinea pigs make a series of interesting vocalizations.\n",
      "Cats love scratching posts that mimic trees.\n",
      "Fish are popular pets for small apartments.\n",
      "Dogs often bark to express their feelings.\n",
      "Parrots can mimic human speech quite accurately.\n",
      "Cats love scratching posts that mimic trees.\n",
      "Dogs often bark to express their feelings.\n",
      "Parrots can mimic human speech quite accurately.\n",
      "Ferrets are playful animals that enjoy interacting with humans.\n",
      "Ferrets are playful animals that enjoy interacting with humans.\n",
      "Horses require a large amount of outdoor space.\n",
      "Rabbits thrive on a diet rich in hay.\n",
      "Dogs often bark to express their feelings.\n",
      "Snakes can be intriguing, though somewhat unconventional pets.\n",
      "Ferrets are playful animals that enjoy interacting with humans.\n",
      "Cats love scratching posts that mimic trees.\n",
      "Dogs often bark to express their feelings.\n",
      "Parrots can mimic human speech quite accurately.\n",
      "Turtles can live for many decades with proper care.\n",
      "Rabbits thrive on a diet rich in hay.\n",
      "Dogs often bark to express their feelings.\n",
      "Horses require a large amount of outdoor space.\n",
      "Cats love scratching posts that mimic trees.\n",
      "Dogs often bark to express their feelings.\n",
      "Turtles can live for many decades with proper care.\n",
      "Snakes can be intriguing, though somewhat unconventional pets.\n",
      "Turtles can live for many decades with proper care.\n",
      "Guinea pigs make a series of interesting vocalizations.\n",
      "Horses require a large amount of outdoor space.\n",
      "Parrots can mimic human speech quite accurately.\n",
      "Dogs often bark to express their feelings.\n",
      "Ferrets are playful animals that enjoy interacting with humans.\n",
      "Guinea pigs make a series of interesting vocalizations.\n",
      "Horses require a large amount of outdoor space.\n",
      "Horses require a large amount of outdoor space.\n",
      "Snakes can be intriguing, though somewhat unconventional pets.\n",
      "Cats love scratching posts that mimic trees.\n",
      "Horses require a large amount of outdoor space.\n",
      "Turtles can live for many decades with proper care.\n",
      "Snakes can be intriguing, though somewhat unconventional pets.\n",
      "Dogs often bark to express their feelings.\n",
      "Dogs often bark to express their feelings.\n",
      "Snakes can be intriguing, though somewhat unconventional pets.\n",
      "Fish are popular pets for small apartments.\n",
      "Dogs often bark to express their feelings.\n",
      "Guinea pigs make a series of interesting vocalizations.\n",
      "Parrots can mimic human speech quite accurately.\n",
      "Horses require a large amount of outdoor space.\n",
      "Horses require a large amount of outdoor space.\n",
      "Horses require a large amount of outdoor space.\n",
      "Parrots can mimic human speech quite accurately.\n",
      "Dogs often bark to express their feelings.\n",
      "Rabbits thrive on a diet rich in hay.\n",
      "Rabbits thrive on a diet rich in hay.\n",
      "Dogs often bark to express their feelings.\n",
      "Rabbits thrive on a diet rich in hay.\n",
      "Snakes can be intriguing, though somewhat unconventional pets.\n",
      "Dogs often bark to express their feelings.\n",
      "Cats love scratching posts that mimic trees.\n",
      "Turtles can live for many decades with proper care.\n",
      "Cats love scratching posts that mimic trees.\n",
      "Cats love scratching posts that mimic trees.\n",
      "Dogs often bark to express their feelings.\n",
      "Parrots can mimic human speech quite accurately.\n",
      "Guinea pigs make a series of interesting vocalizations.\n",
      "Cats love scratching posts that mimic trees.\n",
      "Turtles can live for many decades with proper care.\n",
      "Rabbits thrive on a diet rich in hay.\n",
      "Turtles can live for many decades with proper care.\n",
      "Cats love scratching posts that mimic trees.\n",
      "Parrots can mimic human speech quite accurately.\n",
      "Ferrets are playful animals that enjoy interacting with humans.\n",
      "Fish are popular pets for small apartments.\n",
      "Ferrets are playful animals that enjoy interacting with humans.\n",
      "Cats love scratching posts that mimic trees.\n",
      "Guinea pigs make a series of interesting vocalizations.\n",
      "Ferrets are playful animals that enjoy interacting with humans.\n",
      "Dogs often bark to express their feelings.\n",
      "Guinea pigs make a series of interesting vocalizations.\n",
      "Ferrets are playful animals that enjoy interacting with humans.\n",
      "Guinea pigs make a series of interesting vocalizations.\n",
      "Cats love scratching posts that mimic trees.\n",
      "Dogs often bark to express their feelings.\n",
      "Cats love scratching posts that mimic trees.\n",
      "Cats love scratching posts that mimic trees.\n",
      "Snakes can be intriguing, though somewhat unconventional pets.\n",
      "Parrots can mimic human speech quite accurately.\n",
      "Snakes can be intriguing, though somewhat unconventional pets.\n",
      "Dogs often bark to express their feelings.\n",
      "Turtles can live for many decades with proper care.\n",
      "Ferrets are playful animals that enjoy interacting with humans.\n",
      "Ferrets are playful animals that enjoy interacting with humans.\n",
      "Dogs often bark to express their feelings.\n",
      "Dogs often bark to express their feelings.\n",
      "Horses require a large amount of outdoor space.\n",
      "Ferrets are playful animals that enjoy interacting with humans.\n",
      "Dogs often bark to express their feelings.\n",
      "Guinea pigs make a series of interesting vocalizations.\n",
      "\n",
      "\n"
     ]
    }
   ],
   "source": [
    "# read the content of this file: embedding_files/embedding_content_99996.txt\n",
    "filename = \"embedding_files_test/embedding_content_99996.txt\"\n",
    "with open(filename , \"r\") as f:\n",
    "    content = f.read()\n",
    "    print(content)\n"
   ]
  },
  {
   "cell_type": "code",
   "execution_count": 21,
   "metadata": {},
   "outputs": [
    {
     "name": "stdout",
     "output_type": "stream",
     "text": [
      "1540\n"
     ]
    }
   ],
   "source": [
    "filename = \"embedding_files_test/embedding_content_99996.txt\"\n",
    "# count the number of words in the document without a counter\n",
    "with open(filename , \"r\") as f:\n",
    "    content = f.read()\n",
    "    print(len(content.split()))"
   ]
  }
 ],
 "metadata": {
  "kernelspec": {
   "display_name": "py312",
   "language": "python",
   "name": "python3"
  },
  "language_info": {
   "codemirror_mode": {
    "name": "ipython",
    "version": 3
   },
   "file_extension": ".py",
   "mimetype": "text/x-python",
   "name": "python",
   "nbconvert_exporter": "python",
   "pygments_lexer": "ipython3",
   "version": "3.12.5"
  }
 },
 "nbformat": 4,
 "nbformat_minor": 2
}
